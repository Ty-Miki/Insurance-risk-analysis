{
 "cells": [
  {
   "cell_type": "markdown",
   "id": "c5091989",
   "metadata": {},
   "source": [
    "# EDA"
   ]
  },
  {
   "cell_type": "code",
   "execution_count": 1,
   "id": "3fbeb7bc",
   "metadata": {},
   "outputs": [
    {
     "data": {
      "text/plain": [
       "['/home/miki/Desktop/KIFIYA/week-3/Insurance-risk-analysis',\n",
       " '/usr/lib/python312.zip',\n",
       " '/usr/lib/python3.12',\n",
       " '/usr/lib/python3.12/lib-dynload',\n",
       " '',\n",
       " '/home/miki/Desktop/KIFIYA/week-3/Insurance-risk-analysis/venv/lib/python3.12/site-packages']"
      ]
     },
     "execution_count": 1,
     "metadata": {},
     "output_type": "execute_result"
    }
   ],
   "source": [
    "# Insert the parent directory to the system path\n",
    "import sys\n",
    "from pathlib import Path\n",
    "import os\n",
    "\n",
    "parent_directory = str(Path(os.getcwd()).parent)\n",
    "sys.path.insert(0, parent_directory)\n",
    "sys.path"
   ]
  },
  {
   "cell_type": "code",
   "execution_count": 2,
   "id": "c87f6177",
   "metadata": {},
   "outputs": [
    {
     "name": "stderr",
     "output_type": "stream",
     "text": [
      "2025-06-13 22:36:09,622 - INFO - Loaded 999544 records from table 'claims'.\n"
     ]
    },
    {
     "name": "stdout",
     "output_type": "stream",
     "text": [
      "<class 'pandas.core.frame.DataFrame'>\n",
      "RangeIndex: 999544 entries, 0 to 999543\n",
      "Data columns (total 46 columns):\n",
      " #   Column                    Non-Null Count   Dtype         \n",
      "---  ------                    --------------   -----         \n",
      " 0   UnderwrittenCoverID       999544 non-null  int64         \n",
      " 1   PolicyID                  999544 non-null  int64         \n",
      " 2   TransactionMonth          999544 non-null  datetime64[ns]\n",
      " 3   IsVATRegistered           999544 non-null  int64         \n",
      " 4   Citizenship               999544 non-null  object        \n",
      " 5   LegalType                 999544 non-null  object        \n",
      " 6   Title                     999544 non-null  object        \n",
      " 7   Language                  999544 non-null  object        \n",
      " 8   Bank                      999544 non-null  object        \n",
      " 9   AccountType               999544 non-null  object        \n",
      " 10  MaritalStatus             999544 non-null  object        \n",
      " 11  Gender                    999544 non-null  object        \n",
      " 12  Country                   999544 non-null  object        \n",
      " 13  Province                  999544 non-null  object        \n",
      " 14  PostalCode                999544 non-null  object        \n",
      " 15  MainCrestaZone            999544 non-null  object        \n",
      " 16  SubCrestaZone             999544 non-null  object        \n",
      " 17  ItemType                  999544 non-null  object        \n",
      " 18  mmcode                    999544 non-null  float64       \n",
      " 19  VehicleType               999544 non-null  object        \n",
      " 20  RegistrationYear          999544 non-null  int64         \n",
      " 21  make                      999544 non-null  object        \n",
      " 22  Model                     999544 non-null  object        \n",
      " 23  Cylinders                 999544 non-null  float64       \n",
      " 24  cubiccapacity             999544 non-null  float64       \n",
      " 25  kilowatts                 999544 non-null  float64       \n",
      " 26  bodytype                  999544 non-null  object        \n",
      " 27  NumberOfDoors             999544 non-null  float64       \n",
      " 28  VehicleIntroDate          0 non-null       datetime64[ns]\n",
      " 29  AlarmImmobiliser          999544 non-null  object        \n",
      " 30  TrackingDevice            999544 non-null  object        \n",
      " 31  CapitalOutstanding        999544 non-null  object        \n",
      " 32  NewVehicle                999544 non-null  object        \n",
      " 33  SumInsured                999544 non-null  float64       \n",
      " 34  TermFrequency             999544 non-null  object        \n",
      " 35  CalculatedPremiumPerTerm  999544 non-null  float64       \n",
      " 36  ExcessSelected            999544 non-null  object        \n",
      " 37  CoverCategory             999544 non-null  object        \n",
      " 38  CoverType                 999544 non-null  object        \n",
      " 39  CoverGroup                999544 non-null  object        \n",
      " 40  Section                   999544 non-null  object        \n",
      " 41  Product                   999544 non-null  object        \n",
      " 42  StatutoryClass            999544 non-null  object        \n",
      " 43  StatutoryRiskType         999544 non-null  object        \n",
      " 44  TotalPremium              999544 non-null  float64       \n",
      " 45  TotalClaims               999544 non-null  float64       \n",
      "dtypes: datetime64[ns](2), float64(9), int64(4), object(31)\n",
      "memory usage: 350.8+ MB\n"
     ]
    }
   ],
   "source": [
    "# Load data from the db and inspect it\n",
    "from scripts.load_data import load_from_sqlite\n",
    "\n",
    "df = load_from_sqlite(\n",
    "    db_path=f\"{parent_directory}/data/cleaned_claim_data.db\",\n",
    "    table_name=\"claims\",\n",
    "    datetime_cols=[\"TransactionMonth\", \"VehicleIntroDate\"]\n",
    ")\n",
    "\n",
    "df.info()"
   ]
  },
  {
   "cell_type": "code",
   "execution_count": 6,
   "id": "550e9e07",
   "metadata": {},
   "outputs": [
    {
     "data": {
      "text/html": [
       "<div>\n",
       "<style scoped>\n",
       "    .dataframe tbody tr th:only-of-type {\n",
       "        vertical-align: middle;\n",
       "    }\n",
       "\n",
       "    .dataframe tbody tr th {\n",
       "        vertical-align: top;\n",
       "    }\n",
       "\n",
       "    .dataframe thead th {\n",
       "        text-align: right;\n",
       "    }\n",
       "</style>\n",
       "<table border=\"1\" class=\"dataframe\">\n",
       "  <thead>\n",
       "    <tr style=\"text-align: right;\">\n",
       "      <th></th>\n",
       "      <th>CalculatedPremiumPerTerm</th>\n",
       "      <th>TotalPremium</th>\n",
       "      <th>TotalClaims</th>\n",
       "    </tr>\n",
       "  </thead>\n",
       "  <tbody>\n",
       "    <tr>\n",
       "      <th>count</th>\n",
       "      <td>999544.000000</td>\n",
       "      <td>999544.000000</td>\n",
       "      <td>999544.000000</td>\n",
       "    </tr>\n",
       "    <tr>\n",
       "      <th>mean</th>\n",
       "      <td>116.161425</td>\n",
       "      <td>61.372350</td>\n",
       "      <td>64.340199</td>\n",
       "    </tr>\n",
       "    <tr>\n",
       "      <th>std</th>\n",
       "      <td>220.576166</td>\n",
       "      <td>157.014098</td>\n",
       "      <td>2369.567085</td>\n",
       "    </tr>\n",
       "    <tr>\n",
       "      <th>min</th>\n",
       "      <td>0.000000</td>\n",
       "      <td>-782.576754</td>\n",
       "      <td>-12002.412281</td>\n",
       "    </tr>\n",
       "    <tr>\n",
       "      <th>1%</th>\n",
       "      <td>0.881800</td>\n",
       "      <td>0.000000</td>\n",
       "      <td>0.000000</td>\n",
       "    </tr>\n",
       "    <tr>\n",
       "      <th>25%</th>\n",
       "      <td>3.225700</td>\n",
       "      <td>0.000000</td>\n",
       "      <td>0.000000</td>\n",
       "    </tr>\n",
       "    <tr>\n",
       "      <th>50%</th>\n",
       "      <td>8.436900</td>\n",
       "      <td>2.179737</td>\n",
       "      <td>0.000000</td>\n",
       "    </tr>\n",
       "    <tr>\n",
       "      <th>75%</th>\n",
       "      <td>90.000000</td>\n",
       "      <td>21.929825</td>\n",
       "      <td>0.000000</td>\n",
       "    </tr>\n",
       "    <tr>\n",
       "      <th>99%</th>\n",
       "      <td>979.946100</td>\n",
       "      <td>778.293596</td>\n",
       "      <td>0.000000</td>\n",
       "    </tr>\n",
       "    <tr>\n",
       "      <th>max</th>\n",
       "      <td>3051.821100</td>\n",
       "      <td>2253.507281</td>\n",
       "      <td>393092.105263</td>\n",
       "    </tr>\n",
       "  </tbody>\n",
       "</table>\n",
       "</div>"
      ],
      "text/plain": [
       "       CalculatedPremiumPerTerm   TotalPremium    TotalClaims\n",
       "count             999544.000000  999544.000000  999544.000000\n",
       "mean                 116.161425      61.372350      64.340199\n",
       "std                  220.576166     157.014098    2369.567085\n",
       "min                    0.000000    -782.576754  -12002.412281\n",
       "1%                     0.881800       0.000000       0.000000\n",
       "25%                    3.225700       0.000000       0.000000\n",
       "50%                    8.436900       2.179737       0.000000\n",
       "75%                   90.000000      21.929825       0.000000\n",
       "99%                  979.946100     778.293596       0.000000\n",
       "max                 3051.821100    2253.507281  393092.105263"
      ]
     },
     "execution_count": 6,
     "metadata": {},
     "output_type": "execute_result"
    }
   ],
   "source": [
    "# Do descriptive statistics for key columns\n",
    "summary = df[[\"CalculatedPremiumPerTerm\", \"TotalPremium\", \"TotalClaims\"]].describe(percentiles=[0.01, 0.25, 0.5, 0.75, 0.99])\n",
    "summary"
   ]
  },
  {
   "cell_type": "code",
   "execution_count": 7,
   "id": "3efa3d61",
   "metadata": {},
   "outputs": [
    {
     "name": "stdout",
     "output_type": "stream",
     "text": [
      "Negative premiums: 286\n",
      "Negative claims: 5\n"
     ]
    }
   ],
   "source": [
    "# check the number of negative values for TotalPremium and TotalClaims\n",
    "print(\"Negative premiums:\", (df[\"TotalPremium\"] < 0).sum())\n",
    "print(\"Negative claims:\", (df[\"TotalClaims\"] < 0).sum())"
   ]
  },
  {
   "cell_type": "markdown",
   "id": "db94efae",
   "metadata": {},
   "source": [
    "### 🔍 Data Quality Note – Negative Values in Financial Variables\n",
    "\n",
    "During the descriptive analysis of key financial metrics (`CalculatedPremiumPerTerm`, `TotalPremium`, `TotalClaims`), the following anomalies were detected:\n",
    "\n",
    "| Column         | Negative Values | Notes |\n",
    "|----------------|------------------|-------|\n",
    "| `TotalPremium` | 286              | Likely premium refunds or policy reversals. Should typically be ≥ 0. |\n",
    "| `TotalClaims`  | 5                | Possibly recoveries or corrections. Claims are usually ≥ 0. |\n",
    "\n",
    "#### 📊 Interpretation of Summary Statistics\n",
    "\n",
    "- The data is **heavily right-skewed**:\n",
    "  - Median `TotalClaims` is **0**, mean is **64.34**, and max is **393,092**.\n",
    "  - Median `TotalPremium` is **2.18**, mean is **61.37**, max is **2,253.51**.\n",
    "- A large portion of the portfolio shows **no claims or low premium values**, while a few extreme outliers contribute to high variance.\n",
    "- These characteristics suggest the presence of **high-risk or high-claim customers**, which may warrant segmentation.\n",
    "\n",
    "#### ✅ Action Taken\n",
    "\n",
    "- Negative values are **logged but retained** for now.\n",
    "- Decision to drop or transform will be made during the modeling phase based on impact and modeling needs."
   ]
  }
 ],
 "metadata": {
  "kernelspec": {
   "display_name": "venv",
   "language": "python",
   "name": "python3"
  },
  "language_info": {
   "codemirror_mode": {
    "name": "ipython",
    "version": 3
   },
   "file_extension": ".py",
   "mimetype": "text/x-python",
   "name": "python",
   "nbconvert_exporter": "python",
   "pygments_lexer": "ipython3",
   "version": "3.12.3"
  }
 },
 "nbformat": 4,
 "nbformat_minor": 5
}
